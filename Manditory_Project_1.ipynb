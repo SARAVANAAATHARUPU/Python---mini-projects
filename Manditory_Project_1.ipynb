{
  "nbformat": 4,
  "nbformat_minor": 0,
  "metadata": {
    "colab": {
      "provenance": []
    },
    "kernelspec": {
      "name": "python3",
      "display_name": "Python 3"
    },
    "language_info": {
      "name": "python"
    }
  },
  "cells": [
    {
      "cell_type": "code",
      "source": [
        "print(\"Welcome\")"
      ],
      "metadata": {
        "colab": {
          "base_uri": "https://localhost:8080/"
        },
        "id": "65Mw36XTtJBh",
        "outputId": "52c13457-046d-4e5a-a8b8-b9d10633fc5c"
      },
      "execution_count": null,
      "outputs": [
        {
          "output_type": "stream",
          "name": "stdout",
          "text": [
            "Welcome\n"
          ]
        }
      ]
    },
    {
      "cell_type": "code",
      "source": [
        "# Q1: You are working in a bank and you have been given two lists of the employees who worked in 2021. \n",
        "#Employee’s name in list 1 are Ramesh, Suresh, Mahesh, Ali, Jacob and Saritha. \n",
        "#List 2 contains the names of Ali, Mukesh, Mahesh, Jacob, Sai, Sarita. Please write a program which helps to identify people who are common in both lists.\n",
        " # Please do not use any in-built function. \n",
        "\n",
        "list_1 = [\"Ramesh\",\"Suresh\",\"Mahesh\",\"Ali\",\"Jacob\",\"Saritha\"]\n",
        "list_2 = [\"Mukesh\",\"Sai\",\"Mahesh\",\"Ali\",\"Jacob\",\"Sarita\"]\n",
        "\n",
        "for i in range (len(list_1)):\n",
        "  if list_1[i] in list_2:\n",
        "    print(list_1[i])"
      ],
      "metadata": {
        "colab": {
          "base_uri": "https://localhost:8080/"
        },
        "id": "boNwka8a_WyM",
        "outputId": "779c1a86-af2a-4b6d-80da-96cff286977b"
      },
      "execution_count": null,
      "outputs": [
        {
          "output_type": "stream",
          "name": "stdout",
          "text": [
            "Mahesh\n",
            "Ali\n",
            "Jacob\n"
          ]
        }
      ]
    },
    {
      "cell_type": "code",
      "source": [
        "#Q2: While entering data, someone entered a few names as a common string “Ramesh Suresh Mohit”. \n",
        "#Please write a program which separates all the names and convert them into a list.\n",
        " #Once converted in a list, please write a program which adds their age. \n",
        "\n",
        "\n",
        "#Ramesh :  25\n",
        "\n",
        "#Suresh : 22\n",
        "\n",
        "#Mohit : 26\n",
        "\n",
        "str='Ramesh Suresh Mohit'\n",
        "age = [25,22,26]\n",
        "x= str.split()\n",
        "for i in range(len(age)):\n",
        "  print(x[i] ,\":\",age[i])\n",
        "\n"
      ],
      "metadata": {
        "colab": {
          "base_uri": "https://localhost:8080/"
        },
        "id": "KN188AUA_dxL",
        "outputId": "a7ce094e-6ea2-4525-df03-f62e6de4abf7"
      },
      "execution_count": null,
      "outputs": [
        {
          "output_type": "stream",
          "name": "stdout",
          "text": [
            "Ramesh : 25\n",
            "Suresh : 22\n",
            "Mohit : 26\n"
          ]
        }
      ]
    },
    {
      "cell_type": "code",
      "source": [
        "#Q3: A few students from a university have taken three exams\n",
        "\n",
        "#Name = Sam, Jacy, Tom, Steve\n",
        "\n",
        "#Python = 25, 26, 29, 28\n",
        "\n",
        "#Statistics = 23, 21, 19, 25\n",
        "\n",
        "#SQL = 29, 27, 28, 25\n",
        "\n",
        "\n",
        "#Please write a program which calculates mean values (no in-built function for mean) of \n",
        "#all three tests and print the highest mean value. Addition and other functions are allowed. \n",
        "#Please also report who scored the highest mark in python using programming construct. \n",
        "\n",
        "Name = ['sam','Jacy','Tom','Steve']\n",
        "python = [25,26,29,28]\n",
        "p_mean = sum(python)/4\n",
        "#print(python)\n",
        "#print(\"p_mean =\",p_mean)\n",
        "\n",
        "Stastistics = [23,21,19,25]\n",
        "s_mean = sum(Stastistics)/4\n",
        "#print(\"s_mean = \",s_mean)\n",
        "\n",
        "SQL = [29,27,28,25]\n",
        "sql_mean = sum(SQL)/4\n",
        "print(\"sql_mean = \",sql_mean)\n",
        "\n",
        "#----------------------- Print Highest average--------------------------------\n",
        "\n",
        "p_mean = 27.0\n",
        "s_mean =  22.0\n",
        "sql_mean =  27.25\n",
        "\n",
        "if p_mean > sql_mean:\n",
        "  print('python has highest average')\n",
        "elif s_mean > sql_mean:\n",
        "    print('Stastistics has higest average')\n",
        "else:\n",
        "    print('Sql has highest average')\n",
        "\n",
        "#-----------------------Highest marks in Python---------------------------------\n",
        "#python = [25,26,29,28]\n",
        "a=28\n",
        "for i in range(len(python)):\n",
        "  if python[i] > a:\n",
        "     k = i \n",
        "print(Name[k])         \n",
        "\n",
        "\n"
      ],
      "metadata": {
        "id": "PEDwelmO_vw3",
        "colab": {
          "base_uri": "https://localhost:8080/"
        },
        "outputId": "0e77715d-bce9-421f-c00e-fab8bbd984ef"
      },
      "execution_count": null,
      "outputs": [
        {
          "output_type": "stream",
          "name": "stdout",
          "text": [
            "sql_mean =  27.25\n",
            "Sql has highest average\n",
            "Tom\n"
          ]
        }
      ]
    },
    {
      "cell_type": "code",
      "source": [
        "#Q4: You are working in a medical store. A patient came to your medical store and asked to buy 2 strips of paracetamol, 3 strips of azithromycin and 5 strips of Vitamin C. One strip of paracetamol costs Rs 35, one strip of azithromycin costs Rs 49 and one strip of vitamin c costs Rs. 33. Patient gave you Rs 2000. \n",
        "#Please tell us what is the total cost of each medicine, total cost of all medicine and how much money you refunded to the patient?  \n",
        "\n",
        "Paracetamol = 35\n",
        "p_price = 35 * 2\n",
        "azithromycin = 49\n",
        "a_price = 49 * 3\n",
        "vitamin_c = 33\n",
        "v_price = 33 * 1\n",
        "amount = (p_price + a_price +v_price)\n",
        "Given_amount = 2000\n",
        "change = Given_amount - amount\n",
        "print('change =',change)\n"
      ],
      "metadata": {
        "id": "fy6TMSWvAPLe"
      },
      "execution_count": null,
      "outputs": []
    },
    {
      "cell_type": "code",
      "source": [
        "#5: Accept a sentence as input and find the number of vowels in it. Assume that the sentence has no punctuation marks. For example: I am learning python contains 6 vowels. \n",
        "#This function should be applicable for all other different sentences.\n",
        "\n",
        "\n",
        "x = input(\"enter the sentence:\")\n",
        "y = 'aeiouAEIOU'\n",
        "count = 0\n",
        "for i in x:\n",
        "     if i in y:\n",
        "       #i = count \n",
        "       count = count + 1\n",
        "print(\"vowels are\",count)  "
      ],
      "metadata": {
        "id": "jfcd7_bnAVrU",
        "colab": {
          "base_uri": "https://localhost:8080/"
        },
        "outputId": "a47c57d9-118e-4cd7-9e02-3c63e665cbd9"
      },
      "execution_count": null,
      "outputs": [
        {
          "output_type": "stream",
          "name": "stdout",
          "text": [
            "enter the sentence:Elephant\n",
            "vowels are 3\n"
          ]
        }
      ]
    },
    {
      "cell_type": "code",
      "source": [
        "#Q6: You have been appointed by the election commission to create a website. \n",
        "#Your first task is to work on a program which tells candidates if they are eligible for voting or not. \n",
        "#If they are eligible your output should be ‘Congrats! You are eligible’, \n",
        "#otherwise it should tell that you have to return after X number of years. Eligibility criteria for voting is 18 years. \n",
        "#For example, If someone is 18 or above your output should be ‘Congrats! You are eligible’. \n",
        "#If someone’s age is 15 years it should print output as ‘return after 3 years’.   \n",
        "\n",
        "x = int(input('Enter the age:'))\n",
        "if x > 18:\n",
        "  print('Congrats! You are eligible')\n",
        "else:\n",
        "  y = 18 - x\n",
        "  print(\"return after\",y,\"years\")    "
      ],
      "metadata": {
        "id": "SHoIT9HTAehR"
      },
      "execution_count": null,
      "outputs": []
    },
    {
      "cell_type": "markdown",
      "source": [],
      "metadata": {
        "id": "bDxo9pvV_V6O"
      }
    }
  ]
}